{
  "cells": [
    {
      "cell_type": "code",
      "execution_count": 6,
      "metadata": {
        "colab": {
          "base_uri": "https://localhost:8080/",
          "height": 1000
        },
        "id": "JJrM0BLbs8BM",
        "outputId": "31f22fb3-cfc5-447c-f204-5650f8da710a"
      },
      "outputs": [
        {
          "name": "stderr",
          "output_type": "stream",
          "text": [
            "WARNING:tensorflow:Using a while_loop for converting RngReadAndSkip cause there is no registered converter for this op.\n",
            "WARNING:tensorflow:Using a while_loop for converting Bitcast cause there is no registered converter for this op.\n",
            "WARNING:tensorflow:Using a while_loop for converting Bitcast cause there is no registered converter for this op.\n",
            "WARNING:tensorflow:Using a while_loop for converting StatelessRandomUniformV2 cause there is no registered converter for this op.\n",
            "WARNING:tensorflow:Using a while_loop for converting ImageProjectiveTransformV3 cause there is no registered converter for this op.\n",
            "WARNING:tensorflow:Using a while_loop for converting RngReadAndSkip cause there is no registered converter for this op.\n",
            "WARNING:tensorflow:Using a while_loop for converting Bitcast cause there is no registered converter for this op.\n",
            "WARNING:tensorflow:Using a while_loop for converting Bitcast cause there is no registered converter for this op.\n",
            "WARNING:tensorflow:Using a while_loop for converting StatelessRandomUniformV2 cause there is no registered converter for this op.\n",
            "WARNING:tensorflow:Using a while_loop for converting ImageProjectiveTransformV3 cause there is no registered converter for this op.\n",
            "WARNING:tensorflow:Using a while_loop for converting RngReadAndSkip cause there is no registered converter for this op.\n",
            "WARNING:tensorflow:Using a while_loop for converting Bitcast cause there is no registered converter for this op.\n",
            "WARNING:tensorflow:Using a while_loop for converting Bitcast cause there is no registered converter for this op.\n",
            "WARNING:tensorflow:Using a while_loop for converting StatelessRandomUniformV2 cause there is no registered converter for this op.\n",
            "WARNING:tensorflow:Using a while_loop for converting ImageProjectiveTransformV3 cause there is no registered converter for this op.\n",
            "WARNING:tensorflow:Using a while_loop for converting RngReadAndSkip cause there is no registered converter for this op.\n",
            "WARNING:tensorflow:Using a while_loop for converting Bitcast cause there is no registered converter for this op.\n",
            "WARNING:tensorflow:Using a while_loop for converting Bitcast cause there is no registered converter for this op.\n",
            "WARNING:tensorflow:Using a while_loop for converting StatelessRandomUniformV2 cause there is no registered converter for this op.\n",
            "WARNING:tensorflow:Using a while_loop for converting ImageProjectiveTransformV3 cause there is no registered converter for this op.\n"
          ]
        },
        {
          "name": "stdout",
          "output_type": "stream",
          "text": [
            "Epoch 1/20\n",
            "750/750 [==============================] - 16s 6ms/step - loss: 2.0127 - accuracy: 0.2679 - val_loss: 1.6578 - val_accuracy: 0.4251\n",
            "Epoch 2/20\n",
            "750/750 [==============================] - 5s 6ms/step - loss: 1.5352 - accuracy: 0.4702 - val_loss: 1.4439 - val_accuracy: 0.5008\n",
            "Epoch 3/20\n",
            "750/750 [==============================] - 4s 5ms/step - loss: 1.3955 - accuracy: 0.5188 - val_loss: 1.3492 - val_accuracy: 0.5366\n",
            "Epoch 4/20\n",
            "750/750 [==============================] - 4s 5ms/step - loss: 1.3228 - accuracy: 0.5464 - val_loss: 1.2970 - val_accuracy: 0.5528\n",
            "Epoch 5/20\n",
            "750/750 [==============================] - 5s 7ms/step - loss: 1.2621 - accuracy: 0.5694 - val_loss: 1.2404 - val_accuracy: 0.5756\n",
            "Epoch 6/20\n",
            "750/750 [==============================] - 4s 6ms/step - loss: 1.2099 - accuracy: 0.5860 - val_loss: 1.2031 - val_accuracy: 0.5900\n",
            "Epoch 7/20\n",
            "750/750 [==============================] - 4s 6ms/step - loss: 1.1659 - accuracy: 0.6004 - val_loss: 1.1722 - val_accuracy: 0.6008\n",
            "Epoch 8/20\n",
            "750/750 [==============================] - 4s 6ms/step - loss: 1.1323 - accuracy: 0.6141 - val_loss: 1.1365 - val_accuracy: 0.6110\n",
            "Epoch 9/20\n",
            "750/750 [==============================] - 4s 5ms/step - loss: 1.1009 - accuracy: 0.6251 - val_loss: 1.1196 - val_accuracy: 0.6192\n",
            "Epoch 10/20\n",
            "750/750 [==============================] - 5s 6ms/step - loss: 1.0769 - accuracy: 0.6319 - val_loss: 1.0969 - val_accuracy: 0.6272\n",
            "Epoch 11/20\n",
            "750/750 [==============================] - 4s 5ms/step - loss: 1.0549 - accuracy: 0.6395 - val_loss: 1.0933 - val_accuracy: 0.6263\n",
            "Epoch 12/20\n",
            "750/750 [==============================] - 4s 5ms/step - loss: 1.0365 - accuracy: 0.6467 - val_loss: 1.0951 - val_accuracy: 0.6266\n",
            "Epoch 13/20\n",
            "750/750 [==============================] - 4s 6ms/step - loss: 1.0213 - accuracy: 0.6511 - val_loss: 1.0829 - val_accuracy: 0.6296\n",
            "Epoch 14/20\n",
            "750/750 [==============================] - 4s 6ms/step - loss: 1.0041 - accuracy: 0.6571 - val_loss: 1.0634 - val_accuracy: 0.6361\n",
            "Epoch 15/20\n",
            "750/750 [==============================] - 4s 5ms/step - loss: 0.9884 - accuracy: 0.6594 - val_loss: 1.0626 - val_accuracy: 0.6405\n",
            "Epoch 16/20\n",
            "750/750 [==============================] - 5s 6ms/step - loss: 0.9708 - accuracy: 0.6673 - val_loss: 1.0575 - val_accuracy: 0.6435\n",
            "Epoch 17/20\n",
            "750/750 [==============================] - 4s 5ms/step - loss: 0.9628 - accuracy: 0.6702 - val_loss: 1.0587 - val_accuracy: 0.6392\n",
            "Epoch 18/20\n",
            "750/750 [==============================] - 4s 6ms/step - loss: 0.9478 - accuracy: 0.6753 - val_loss: 1.0709 - val_accuracy: 0.6378\n",
            "Epoch 19/20\n",
            "750/750 [==============================] - 5s 6ms/step - loss: 0.9322 - accuracy: 0.6800 - val_loss: 1.0586 - val_accuracy: 0.6435\n",
            "Epoch 20/20\n",
            "750/750 [==============================] - 4s 6ms/step - loss: 0.9198 - accuracy: 0.6852 - val_loss: 1.0658 - val_accuracy: 0.6442\n"
          ]
        },
        {
          "data": {
            "image/png": "[encoded data removed]",
            "text/plain": [
              "<Figure size 432x288 with 1 Axes>"
            ]
          },
          "metadata": {
            "needs_background": "light"
          },
          "output_type": "display_data"
        }
      ],
      "source": [
        "import tensorflow as tf\n",
        "import pickle\n",
        "import numpy as np\n",
        "import matplotlib.pyplot as plt\n",
        "from tensorflow import keras\n",
        "from tensorflow.keras import layers\n",
        "import os\n",
        "\n",
        "#I have pretrained a model using CNN layers on mnist normal dataset, and loading that model below\n",
        "#Load pre trained model\n",
        "pretrained_model = tf.keras.models.load_model(\"mnist_basic.keras\")\n",
        "\n",
        "# Load the training images and labels\n",
        "train_images = pickle.load(open(\"636_project1_train_images\", \"rb\"))\n",
        "train_labels = pickle.load(open(\"636_project1_train_labels\", \"rb\"))\n",
        "\n",
        "\n",
        "# Normalize the pixel values of the images to be between 0 and 1\n",
        "train_images = np.array(train_images)\n",
        "train_labels = np.array(train_labels)\n",
        "\n",
        "train_images = train_images.reshape((len(train_images), 28 * 28))\n",
        "train_images = train_images.astype(\"float32\") / 255\n",
        "\n",
        "data_augmentation = keras.Sequential(\n",
        "    [\n",
        "        layers.RandomFlip(\"horizontal\"),\n",
        "        layers.RandomRotation(0.1),\n",
        "        layers.RandomZoom(0.2),\n",
        "    ]\n",
        ")\n",
        "\n",
        "#using CNN architecture\n",
        "input_layer = tf.keras.layers.Input(shape=(28, 28, 1))\n",
        "x = data_augmentation(input_layer)\n",
        "x = pretrained_model\n",
        "x = tf.keras.layers.Conv2D(32, (3,3), activation='relu')(input_layer)\n",
        "x = tf.keras.layers.MaxPooling2D((2,2))(x)\n",
        "x = tf.keras.layers.Conv2D(64, (3,3), activation='relu')(x)\n",
        "x = tf.keras.layers.MaxPooling2D((2,2))(x)\n",
        "x = tf.keras.layers.Conv2D(64, (3,3), activation='relu')(x)\n",
        "x = tf.keras.layers.Flatten()(x)\n",
        "x = tf.keras.layers.Dense(64, activation='relu')(x)\n",
        "output_layer = tf.keras.layers.Dense(10, activation='softmax')(x)\n",
        "\n",
        "model = tf.keras.Model(inputs=input_layer, outputs=output_layer)\n",
        "# Compile the model\n",
        "model.compile(optimizer='adam',\n",
        "              loss='sparse_categorical_crossentropy',\n",
        "              metrics=['accuracy'])\n",
        "\n",
        "callbacks = [\n",
        "    keras.callbacks.ModelCheckpoint(\"final_model.keras\",\n",
        "                                    save_best_only=True)\n",
        "]\n",
        "\n",
        "# Reshaping the images to have a depth of 1 (grayscale)\n",
        "train_images = np.reshape(train_images, (train_images.shape[0], 28, 28, 1))\n",
        "\n",
        "# Training the model on the noisy images\n",
        "history = model.fit(train_images, train_labels, epochs=20, callbacks=callbacks, batch_size=64, validation_split=0.2)\n",
        "\n",
        "# Plot the training and validation accuracy over the epochs\n",
        "plt.plot(history.history['accuracy'], label='Training Accuracy')\n",
        "plt.plot(history.history['val_accuracy'], label='Validation Accuracy')\n",
        "plt.xlabel('Epoch')\n",
        "plt.ylabel('Accuracy')\n",
        "plt.legend()\n",
        "plt.show()\n"
      ]
    }
  ],
  "metadata": {
    "accelerator": "GPU",
    "colab": {
      "provenance": []
    },
    "gpuClass": "standard",
    "kernelspec": {
      "display_name": "Python 3",
      "name": "python3"
    },
    "language_info": {
      "name": "python"
    }
  },
  "nbformat": 4,
  "nbformat_minor": 0
}
